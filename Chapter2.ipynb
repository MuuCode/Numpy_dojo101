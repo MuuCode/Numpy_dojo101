{
 "cells": [
  {
   "cell_type": "markdown",
   "metadata": {},
   "source": [
    "# 2章 Numpyはフレキシブル"
   ]
  },
  {
   "cell_type": "markdown",
   "metadata": {},
   "source": [
    "## 10. ベクトルを逆順にしたベクトルを生成せよ "
   ]
  },
  {
   "cell_type": "code",
   "execution_count": 3,
   "metadata": {},
   "outputs": [],
   "source": [
    "import numpy as np"
   ]
  },
  {
   "cell_type": "code",
   "execution_count": 8,
   "metadata": {},
   "outputs": [
    {
     "name": "stdout",
     "output_type": "stream",
     "text": [
      "a:\n",
      "[10 11 12 13 14 15 16 17 18 19 20 21 22 23 24 25 26 27 28 29 30 31 32 33\n",
      " 34 35 36 37 38 39 40 41 42 43 44 45 46 47 48 49]\n",
      "a逆ベクトル:\n",
      "[49 48 47 46 45 44 43 42 41 40 39 38 37 36 35 34 33 32 31 30 29 28 27 26\n",
      " 25 24 23 22 21 20 19 18 17 16 15 14 13 12 11 10]\n"
     ]
    }
   ],
   "source": [
    "a = np.arange(10, 50)\n",
    "print(f\"a:\\n{a}\")\n",
    "print(f\"a逆ベクトル:\\n{a[::-1]}\")"
   ]
  },
  {
   "cell_type": "markdown",
   "metadata": {},
   "source": [
    "## 11. 3 × 3　の単位行列を生成せよ"
   ]
  },
  {
   "cell_type": "code",
   "execution_count": 9,
   "metadata": {},
   "outputs": [
    {
     "data": {
      "text/plain": [
       "array([[1., 0., 0.],\n",
       "       [0., 1., 0.],\n",
       "       [0., 0., 1.]])"
      ]
     },
     "execution_count": 9,
     "metadata": {},
     "output_type": "execute_result"
    }
   ],
   "source": [
    "np.eye(3, 3)"
   ]
  },
  {
   "cell_type": "code",
   "execution_count": 14,
   "metadata": {},
   "outputs": [
    {
     "data": {
      "text/plain": [
       "[[1, 0, 0], [0, 1, 0], [0, 0, 1]]"
      ]
     },
     "execution_count": 14,
     "metadata": {},
     "output_type": "execute_result"
    }
   ],
   "source": [
    "#python pure code\n",
    "l1 = []\n",
    "for i in range(3):\n",
    "    l2 = []\n",
    "    for j in range(3):\n",
    "        if i==j:\n",
    "            l2.append(1)\n",
    "        else:\n",
    "            l2.append(0)\n",
    "    l1.append(l2)\n",
    "l1"
   ]
  },
  {
   "cell_type": "code",
   "execution_count": 17,
   "metadata": {},
   "outputs": [
    {
     "name": "stdout",
     "output_type": "stream",
     "text": [
      "102 µs ± 1.35 µs per loop (mean ± std. dev. of 7 runs, 10000 loops each)\n",
      "6.39 ms ± 350 µs per loop (mean ± std. dev. of 7 runs, 100 loops each)\n"
     ]
    }
   ],
   "source": [
    "def pure_eye(x, y):\n",
    "    l1 = []\n",
    "    for i in range(x):\n",
    "        l2 = []\n",
    "        for j in range(y):\n",
    "            if i==j:\n",
    "                l2.append(1)\n",
    "            else:\n",
    "                l2.append(0)\n",
    "        l1.append(l2)\n",
    "\n",
    "%timeit np.eye(100,100)\n",
    "%timeit pure_eye(100,100)"
   ]
  },
  {
   "cell_type": "markdown",
   "metadata": {},
   "source": [
    "## 12. 512 × 768 のshapeを持つ乱数配列Aと 768 × 768 の乱数配列Bを12個(B1 - B2)と 768 × 2の乱数配列Cを定義し、これらすべてを順にドット積演算した結果を出力してください "
   ]
  },
  {
   "cell_type": "code",
   "execution_count": 28,
   "metadata": {},
   "outputs": [
    {
     "name": "stdout",
     "output_type": "stream",
     "text": [
      "B[0][[0.45208736 0.58287428 0.03438421 ... 0.00724896 0.76102753 0.89229876]\n",
      " [0.20586904 0.57178317 0.9915232  ... 0.67621963 0.76389746 0.88120173]\n",
      " [0.1845964  0.95824132 0.45937336 ... 0.93272072 0.0763074  0.38177487]\n",
      " ...\n",
      " [0.71291701 0.72718883 0.21650393 ... 0.7953768  0.3483685  0.80226885]\n",
      " [0.61187013 0.74665509 0.12685339 ... 0.57228508 0.7687586  0.73888361]\n",
      " [0.69962434 0.68205664 0.59294164 ... 0.04927297 0.10463678 0.22158314]]\n",
      "[[1.97084098e+33 1.95980109e+33]\n",
      " [1.99091775e+33 1.97976540e+33]\n",
      " [1.95043840e+33 1.93951280e+33]\n",
      " ...\n",
      " [1.95855079e+33 1.94757974e+33]\n",
      " [2.03955280e+33 2.02812801e+33]\n",
      " [1.93306018e+33 1.92223192e+33]]\n"
     ]
    }
   ],
   "source": [
    "A = np.random.random((512, 768))\n",
    "B = []\n",
    "for _ in range(12):\n",
    "    B.append(np.random.random((768, 768)))\n",
    "C = np.random.random((768, 2))\n",
    "TMP = np.zeros((512, 768))\n",
    "\n",
    "TMP = A@B[0]\n",
    "for i in range(1, 12, 1):\n",
    "     TMP = TMP @ B[i]\n",
    "print(TMP@C)"
   ]
  },
  {
   "cell_type": "code",
   "execution_count": 32,
   "metadata": {},
   "outputs": [
    {
     "name": "stdout",
     "output_type": "stream",
     "text": [
      "[array([[0.5858629 , 0.93949828, 0.30654803],\n",
      "       [0.47186835, 0.87769688, 0.79702921],\n",
      "       [0.13026525, 0.56966307, 0.65827422]]), array([[0.13466133, 0.21446422, 0.37439856],\n",
      "       [0.60363391, 0.28374983, 0.93176922],\n",
      "       [0.88570596, 0.82299347, 0.39040618]])]\n",
      "[[0.5858629  0.93949828 0.30654803]\n",
      " [0.47186835 0.87769688 0.79702921]\n",
      " [0.13026525 0.56966307 0.65827422]]\n"
     ]
    }
   ],
   "source": [
    "B = []\n",
    "for _ in range(2):\n",
    "    B.append(np.random.random((3,3)))\n",
    "print(B)\n",
    "print(B[0])"
   ]
  },
  {
   "cell_type": "markdown",
   "metadata": {},
   "source": [
    "## 13. 10 × 10 のshapeの乱数の行列を作成し、最大値と最小値を求めよ"
   ]
  },
  {
   "cell_type": "code",
   "execution_count": 25,
   "metadata": {},
   "outputs": [
    {
     "name": "stdout",
     "output_type": "stream",
     "text": [
      "(10, 10)\n",
      "0.9991204468354978\n",
      "0.004520957110899948\n"
     ]
    }
   ],
   "source": [
    "a = np.random.random((10,10))\n",
    "print(a.shape)\n",
    "print(np.max(a))\n",
    "print(np.min(a))"
   ]
  },
  {
   "cell_type": "markdown",
   "metadata": {},
   "source": [
    "## 14. サイズ30の乱数配列を生成し、平均値を算出せよ。"
   ]
  },
  {
   "cell_type": "code",
   "execution_count": 33,
   "metadata": {},
   "outputs": [
    {
     "data": {
      "text/plain": [
       "0.5058606127632694"
      ]
     },
     "execution_count": 33,
     "metadata": {},
     "output_type": "execute_result"
    }
   ],
   "source": [
    "np.mean(np.random.random(30))"
   ]
  },
  {
   "cell_type": "markdown",
   "metadata": {},
   "source": [
    "## 15. 四方を1で囲まれて中は0である2次元配列を生成せよ。"
   ]
  },
  {
   "cell_type": "code",
   "execution_count": 53,
   "metadata": {},
   "outputs": [
    {
     "name": "stdout",
     "output_type": "stream",
     "text": [
      "a\n",
      "[0. 0. 0.]\n",
      "b\n",
      "[0. 0. 0.]\n",
      "c\n",
      "[[0. 0. 0.]\n",
      " [0. 0. 0.]\n",
      " [0. 0. 0.]]\n",
      "d\n",
      "[[[0. 0. 0.]\n",
      "  [0. 0. 0.]\n",
      "  [0. 0. 0.]]\n",
      "\n",
      " [[0. 0. 0.]\n",
      "  [0. 0. 0.]\n",
      "  [0. 0. 0.]]\n",
      "\n",
      " [[0. 0. 0.]\n",
      "  [0. 0. 0.]\n",
      "  [0. 0. 0.]]]\n",
      "e\n",
      "[[[[0. 0. 0.]\n",
      "   [0. 0. 0.]\n",
      "   [0. 0. 0.]]\n",
      "\n",
      "  [[0. 0. 0.]\n",
      "   [0. 0. 0.]\n",
      "   [0. 0. 0.]]\n",
      "\n",
      "  [[0. 0. 0.]\n",
      "   [0. 0. 0.]\n",
      "   [0. 0. 0.]]]\n",
      "\n",
      "\n",
      " [[[0. 0. 0.]\n",
      "   [0. 0. 0.]\n",
      "   [0. 0. 0.]]\n",
      "\n",
      "  [[0. 0. 0.]\n",
      "   [0. 0. 0.]\n",
      "   [0. 0. 0.]]\n",
      "\n",
      "  [[0. 0. 0.]\n",
      "   [0. 0. 0.]\n",
      "   [0. 0. 0.]]]\n",
      "\n",
      "\n",
      " [[[0. 0. 0.]\n",
      "   [0. 0. 0.]\n",
      "   [0. 0. 0.]]\n",
      "\n",
      "  [[0. 0. 0.]\n",
      "   [0. 0. 0.]\n",
      "   [0. 0. 0.]]\n",
      "\n",
      "  [[0. 0. 0.]\n",
      "   [0. 0. 0.]\n",
      "   [0. 0. 0.]]]]\n"
     ]
    }
   ],
   "source": [
    "a = np.zeros(3)\n",
    "b = np.zeros((3))\n",
    "c = np.zeros((3,3))\n",
    "d = np.zeros((3,3,3))\n",
    "e = np.zeros((3,3,3,3))\n",
    "\n",
    "print(f\"a\\n{a}\")\n",
    "print(f\"b\\n{b}\")\n",
    "print(f\"c\\n{c}\")\n",
    "print(f\"d\\n{d}\")\n",
    "print(f\"e\\n{e}\")"
   ]
  },
  {
   "cell_type": "code",
   "execution_count": 54,
   "metadata": {},
   "outputs": [
    {
     "data": {
      "text/plain": [
       "array([[1., 1., 1., 1., 1., 1., 1., 1.],\n",
       "       [1., 0., 0., 0., 0., 0., 0., 1.],\n",
       "       [1., 0., 0., 0., 0., 0., 0., 1.],\n",
       "       [1., 0., 0., 0., 0., 0., 0., 1.],\n",
       "       [1., 0., 0., 0., 0., 0., 0., 1.],\n",
       "       [1., 0., 0., 0., 0., 0., 0., 1.],\n",
       "       [1., 0., 0., 0., 0., 0., 0., 1.],\n",
       "       [1., 1., 1., 1., 1., 1., 1., 1.]])"
      ]
     },
     "execution_count": 54,
     "metadata": {},
     "output_type": "execute_result"
    }
   ],
   "source": [
    "a = np.zeros((8,8))\n",
    "a[0,:] = 1\n",
    "a[:,0] = 1\n",
    "a[-1,:] = 1\n",
    "a[:,-1] = 1\n",
    "a"
   ]
  },
  {
   "cell_type": "code",
   "execution_count": 58,
   "metadata": {},
   "outputs": [
    {
     "name": "stdout",
     "output_type": "stream",
     "text": [
      "[[1. 1. 1. 1. 1. 1. 1. 1.]\n",
      " [1. 0. 0. 0. 0. 0. 0. 1.]\n",
      " [1. 0. 0. 0. 0. 0. 0. 1.]\n",
      " [1. 0. 0. 0. 0. 0. 0. 1.]\n",
      " [1. 0. 0. 0. 0. 0. 0. 1.]\n",
      " [1. 0. 0. 0. 0. 0. 0. 1.]\n",
      " [1. 0. 0. 0. 0. 0. 0. 1.]\n",
      " [1. 1. 1. 1. 1. 1. 1. 1.]]\n",
      "[[1. 1. 1. 1.]\n",
      " [0. 0. 0. 0.]\n",
      " [0. 0. 0. 0.]\n",
      " [0. 0. 0. 0.]]\n",
      "[[2. 0. 0. 0.]\n",
      " [2. 0. 0. 0.]\n",
      " [2. 0. 0. 0.]\n",
      " [2. 0. 0. 0.]]\n",
      "[[0. 0. 0. 0.]\n",
      " [0. 0. 0. 0.]\n",
      " [0. 0. 0. 0.]\n",
      " [3. 3. 3. 3.]]\n",
      "[[0. 0. 0. 4.]\n",
      " [0. 0. 0. 4.]\n",
      " [0. 0. 0. 4.]\n",
      " [0. 0. 0. 4.]]\n"
     ]
    }
   ],
   "source": [
    "b = np.zeros((4,4))\n",
    "b[0,:] = 1\n",
    "c = np.zeros((4,4))\n",
    "c[:,0] = 2\n",
    "d = np.zeros((4,4))\n",
    "d[-1,:] = 3\n",
    "e = np.zeros((4,4))\n",
    "e[:,-1] = 4\n",
    "print(a)\n",
    "print(b)\n",
    "print(c)\n",
    "print(d)\n",
    "print(e)"
   ]
  },
  {
   "cell_type": "markdown",
   "metadata": {},
   "source": [
    "## 16. オセロの初期状態をNumpyで表現せよ"
   ]
  },
  {
   "cell_type": "code",
   "execution_count": 66,
   "metadata": {},
   "outputs": [
    {
     "data": {
      "text/plain": [
       "array([[0, 0, 0, 0, 0, 0, 0, 0],\n",
       "       [0, 0, 0, 0, 0, 0, 0, 0],\n",
       "       [0, 0, 0, 0, 0, 0, 0, 0],\n",
       "       [0, 0, 0, 0, 1, 0, 0, 0],\n",
       "       [0, 0, 0, 1, 0, 0, 0, 0],\n",
       "       [0, 0, 0, 0, 0, 0, 0, 0],\n",
       "       [0, 0, 0, 0, 0, 0, 0, 0],\n",
       "       [0, 0, 0, 0, 0, 0, 0, 0]])"
      ]
     },
     "execution_count": 66,
     "metadata": {},
     "output_type": "execute_result"
    }
   ],
   "source": [
    "#reversi\n",
    "a = np.full((8,8), 0)\n",
    "a[3,4] = 1\n",
    "a[4,3] = 1\n",
    "a"
   ]
  },
  {
   "cell_type": "markdown",
   "metadata": {},
   "source": [
    "## 17. 要素が全て0の 5　× 5 の行列の周りを1で囲え"
   ]
  },
  {
   "cell_type": "code",
   "execution_count": 82,
   "metadata": {},
   "outputs": [
    {
     "name": "stdout",
     "output_type": "stream",
     "text": [
      "[[0. 0. 0. 0. 0. 0. 0.]\n",
      " [0. 1. 1. 1. 1. 1. 0.]\n",
      " [0. 1. 1. 1. 1. 1. 0.]\n",
      " [0. 1. 1. 1. 1. 1. 0.]\n",
      " [0. 1. 1. 1. 1. 1. 0.]\n",
      " [0. 1. 1. 1. 1. 1. 0.]\n",
      " [0. 0. 0. 0. 0. 0. 0.]]\n"
     ]
    }
   ],
   "source": [
    "a = np.ones((5,5))\n",
    "a = np.pad(a, pad_width =1)\n",
    "print(a)"
   ]
  },
  {
   "cell_type": "code",
   "execution_count": 83,
   "metadata": {},
   "outputs": [
    {
     "name": "stdout",
     "output_type": "stream",
     "text": [
      "[[0. 0. 0. 0. 0. 0. 0. 0.]\n",
      " [0. 0. 0. 0. 0. 0. 0. 0.]\n",
      " [0. 0. 1. 1. 1. 1. 1. 0.]\n",
      " [0. 0. 1. 1. 1. 1. 1. 0.]\n",
      " [0. 0. 1. 1. 1. 1. 1. 0.]\n",
      " [0. 0. 1. 1. 1. 1. 1. 0.]\n",
      " [0. 0. 1. 1. 1. 1. 1. 0.]\n",
      " [0. 0. 0. 0. 0. 0. 0. 0.]]\n"
     ]
    }
   ],
   "source": [
    "a = np.pad(a, ((1, 0)), \"constant\")\n",
    "print(a)\n",
    "#https://qiita.com/kuroitu/items/51f4c867c8a44de739ec"
   ]
  },
  {
   "cell_type": "markdown",
   "metadata": {},
   "source": [
    "## 18. 要素がすべて0の 7 × 7　の行列の周りを1で囲え。ただし、No.17とは違う書き方でかけ。"
   ]
  },
  {
   "cell_type": "code",
   "execution_count": 85,
   "metadata": {},
   "outputs": [
    {
     "name": "stdout",
     "output_type": "stream",
     "text": [
      "[[0. 0. 0. 0. 0. 0. 0.]\n",
      " [0. 1. 1. 1. 1. 1. 0.]\n",
      " [0. 1. 1. 1. 1. 1. 0.]\n",
      " [0. 1. 1. 1. 1. 1. 0.]\n",
      " [0. 1. 1. 1. 1. 1. 0.]\n",
      " [0. 1. 1. 1. 1. 1. 0.]\n",
      " [0. 0. 0. 0. 0. 0. 0.]]\n"
     ]
    }
   ],
   "source": [
    "Z = np.ones((7,7))\n",
    "Z[:, [0,-1]] = 0   # 縦\n",
    "Z[[0, -1],:] = 0   # 横\n",
    "print(Z)"
   ]
  },
  {
   "cell_type": "markdown",
   "metadata": {},
   "source": [
    "## 19. 5 × 5 の0行列を作成し、対角線上に1,3,4,5を並べよ"
   ]
  },
  {
   "cell_type": "code",
   "execution_count": 86,
   "metadata": {},
   "outputs": [
    {
     "name": "stdout",
     "output_type": "stream",
     "text": [
      "[[1 0 0 0 0]\n",
      " [0 2 0 0 0]\n",
      " [0 0 3 0 0]\n",
      " [0 0 0 4 0]\n",
      " [0 0 0 0 5]]\n"
     ]
    }
   ],
   "source": [
    "a = np.zeros((5,5), dtype='int64')\n",
    "for i in range(len(a)):\n",
    "    a[i,i] = i + 1\n",
    "print(a)"
   ]
  },
  {
   "cell_type": "code",
   "execution_count": 87,
   "metadata": {},
   "outputs": [
    {
     "data": {
      "text/plain": [
       "array([[1, 0, 0, 0, 0],\n",
       "       [0, 2, 0, 0, 0],\n",
       "       [0, 0, 3, 0, 0],\n",
       "       [0, 0, 0, 4, 0],\n",
       "       [0, 0, 0, 0, 5]])"
      ]
     },
     "execution_count": 87,
     "metadata": {},
     "output_type": "execute_result"
    }
   ],
   "source": [
    "a = np.diag(np.arange(1, 6), k=0)\n",
    "a"
   ]
  },
  {
   "cell_type": "code",
   "execution_count": 109,
   "metadata": {},
   "outputs": [
    {
     "name": "stdout",
     "output_type": "stream",
     "text": [
      "[1 2 3 4 5]\n",
      "[[1. 0. 0.]\n",
      " [0. 1. 0.]\n",
      " [0. 0. 1.]]\n",
      "[[0. 1. 0. 0.]\n",
      " [0. 0. 1. 0.]\n",
      " [0. 0. 0. 1.]\n",
      " [0. 0. 0. 0.]]\n",
      "[[0. 0. 0. 0.]\n",
      " [1. 0. 0. 0.]\n",
      " [0. 1. 0. 0.]\n",
      " [0. 0. 1. 0.]]\n",
      "[[0. 0. 0. 0. 0. 1. 0. 0.]\n",
      " [0. 0. 0. 0. 0. 0. 1. 0.]\n",
      " [0. 0. 0. 0. 0. 0. 0. 1.]\n",
      " [0. 0. 0. 0. 0. 0. 0. 0.]\n",
      " [0. 0. 0. 0. 0. 0. 0. 0.]\n",
      " [0. 0. 0. 0. 0. 0. 0. 0.]\n",
      " [0. 0. 0. 0. 0. 0. 0. 0.]\n",
      " [0. 0. 0. 0. 0. 0. 0. 0.]]\n",
      "[[0. 0. 0. 0. 0. 0.]\n",
      " [0. 0. 0. 0. 0. 0.]\n",
      " [0. 0. 0. 0. 0. 0.]\n",
      " [1. 0. 0. 0. 0. 0.]\n",
      " [0. 1. 0. 0. 0. 0.]\n",
      " [0. 0. 1. 0. 0. 0.]]\n"
     ]
    }
   ],
   "source": [
    "print(np.arange(1,6))\n",
    "print(np.diag(np.ones((3)), k=0))\n",
    "print(np.diag(np.ones((3)), k=1))\n",
    "print(np.diag(np.ones((3)), k=-1))\n",
    "print(np.diag(np.ones((3)), k=5))\n",
    "print(np.diag(np.ones((3)), k=-3))"
   ]
  },
  {
   "cell_type": "code",
   "execution_count": 111,
   "metadata": {},
   "outputs": [
    {
     "name": "stdout",
     "output_type": "stream",
     "text": [
      "[[1. 0. 0.]\n",
      " [0. 1. 0.]\n",
      " [0. 0. 1.]]\n"
     ]
    }
   ],
   "source": [
    "print(np.diag(np.ones((3)), k=0))"
   ]
  },
  {
   "cell_type": "code",
   "execution_count": null,
   "metadata": {},
   "outputs": [],
   "source": []
  }
 ],
 "metadata": {
  "kernelspec": {
   "display_name": "Python 3",
   "language": "python",
   "name": "python3"
  },
  "language_info": {
   "codemirror_mode": {
    "name": "ipython",
    "version": 3
   },
   "file_extension": ".py",
   "mimetype": "text/x-python",
   "name": "python",
   "nbconvert_exporter": "python",
   "pygments_lexer": "ipython3",
   "version": "3.7.6"
  }
 },
 "nbformat": 4,
 "nbformat_minor": 4
}

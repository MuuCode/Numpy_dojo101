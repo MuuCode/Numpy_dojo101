{
 "cells": [
  {
   "cell_type": "markdown",
   "metadata": {},
   "source": [
    "# 第4章 Numpyにおける数値の扱い"
   ]
  },
  {
   "cell_type": "code",
   "execution_count": 1,
   "metadata": {},
   "outputs": [],
   "source": [
    "import numpy as np"
   ]
  },
  {
   "cell_type": "markdown",
   "metadata": {},
   "source": [
    "## 30. 次の式の実行結果を示せ"
   ]
  },
  {
   "cell_type": "code",
   "execution_count": 4,
   "metadata": {},
   "outputs": [],
   "source": [
    "# print(np.array(0) / np.array(0))\n",
    "# /opt/anaconda3/lib/python3.7/site-packages/ipykernel_launcher.py:1: RuntimeWarning: invalid value encountered in true_divide\n",
    "#   \"\"\"Entry point for launching an IPython kernel."
   ]
  },
  {
   "cell_type": "code",
   "execution_count": 6,
   "metadata": {},
   "outputs": [],
   "source": [
    "# print(np.array(0) // np.array(0))\n",
    "# 0\n",
    "# /opt/anaconda3/lib/python3.7/site-packages/ipykernel_launcher.py:1: RuntimeWarning: divide by zero encountered in floor_divide\n",
    "#   \"\"\"Entry point for launching an IPython kernel."
   ]
  },
  {
   "cell_type": "code",
   "execution_count": 7,
   "metadata": {},
   "outputs": [
    {
     "name": "stdout",
     "output_type": "stream",
     "text": [
      "[-9.22337204e+18]\n"
     ]
    }
   ],
   "source": [
    "print(np.array([np.nan]).astype(int).astype(float))"
   ]
  },
  {
   "cell_type": "code",
   "execution_count": 13,
   "metadata": {},
   "outputs": [
    {
     "name": "stdout",
     "output_type": "stream",
     "text": [
      "[nan]\n",
      "[-9223372036854775808]\n",
      "[nan]\n"
     ]
    }
   ],
   "source": [
    "print(np.array([np.nan]))\n",
    "print(np.array([np.nan]).astype(int))\n",
    "print(np.array([np.nan]).astype(float))"
   ]
  },
  {
   "cell_type": "code",
   "execution_count": 22,
   "metadata": {},
   "outputs": [
    {
     "name": "stdout",
     "output_type": "stream",
     "text": [
      "1\n",
      "1.0\n",
      "1.0\n"
     ]
    }
   ],
   "source": [
    "print(np.array(1))\n",
    "print(np.array(1).astype(float))\n",
    "print(np.array(1).astype(int).astype(float))"
   ]
  },
  {
   "cell_type": "code",
   "execution_count": 23,
   "metadata": {},
   "outputs": [
    {
     "name": "stdout",
     "output_type": "stream",
     "text": [
      "[1]\n",
      "[1.]\n",
      "[1.]\n"
     ]
    }
   ],
   "source": [
    "print(np.array([1]).astype(int))\n",
    "print(np.array([1]).astype(float))\n",
    "print(np.array([1]).astype(int).astype(float))"
   ]
  },
  {
   "cell_type": "code",
   "execution_count": 33,
   "metadata": {},
   "outputs": [
    {
     "name": "stdout",
     "output_type": "stream",
     "text": [
      "nan\n",
      "np.nan: <class 'float'>\n",
      "<class 'numpy.ndarray'>\n",
      "int64\n"
     ]
    }
   ],
   "source": [
    "print(np.nan)\n",
    "print(f\"np.nan: {type(np.nan)}\")\n",
    "print(type(np.array(1)))\n",
    "print(np.array(1).dtype)\n",
    "# print(np.nan.dtype)  #　エラー"
   ]
  },
  {
   "cell_type": "markdown",
   "metadata": {},
   "source": [
    "## 31. float型の配列の小数点以下を切り上げせよ"
   ]
  },
  {
   "cell_type": "code",
   "execution_count": 49,
   "metadata": {},
   "outputs": [
    {
     "name": "stdout",
     "output_type": "stream",
     "text": [
      "[-2. -3.  0.  5.  4.]\n",
      "[-2. -3.  0.  5.  4.]\n"
     ]
    }
   ],
   "source": [
    "a = np.array([-1.5, -2.6, 0.0, 4.2, 3.14])\n",
    "# 読みやすさ重視\n",
    "print(np.where(a>0, np.ceil(a), np.floor(a)))\n",
    "# 計算効率重視\n",
    "print(np.copysign(np.ceil(np.abs(a)), a))"
   ]
  },
  {
   "cell_type": "code",
   "execution_count": 36,
   "metadata": {},
   "outputs": [
    {
     "name": "stdout",
     "output_type": "stream",
     "text": [
      "[[0 1 2]\n",
      " [3 4 5]\n",
      " [6 7 8]]\n",
      "[[ True  True  True]\n",
      " [ True False False]\n",
      " [False False False]]\n",
      "[[0 0 0]\n",
      " [0 1 1]\n",
      " [1 1 1]]\n"
     ]
    }
   ],
   "source": [
    "# where\n",
    "a = np.arange(9).reshape(3, 3)\n",
    "print(a)\n",
    "print(a < 4)\n",
    "print(np.where(a < 4, 0, 1))"
   ]
  },
  {
   "cell_type": "code",
   "execution_count": 42,
   "metadata": {},
   "outputs": [
    {
     "name": "stdout",
     "output_type": "stream",
     "text": [
      "[-1.5  -2.6   0.    4.2   3.14]\n",
      "[-1. -2.  0.  5.  4.]\n",
      "[-2. -3.  0.  4.  3.]\n"
     ]
    }
   ],
   "source": [
    "# ceil 切り捨て (a>0)\n",
    "print(a)\n",
    "print(np.ceil(a))\n",
    "# floor 切り上げ(a<0)\n",
    "print(np.floor(a))"
   ]
  },
  {
   "cell_type": "code",
   "execution_count": 48,
   "metadata": {},
   "outputs": [
    {
     "name": "stdout",
     "output_type": "stream",
     "text": [
      "[-1. -2.  0.  5.  4.]\n",
      "[1. 2. 0. 5. 4.]\n",
      "[-1. -2.  0.  5.  4.]\n",
      "[ 1. -2.  0. -5.  4.]\n"
     ]
    }
   ],
   "source": [
    "b = np.ceil(np.abs(a))\n",
    "print(a)\n",
    "print(b)\n",
    "print(np.copysign(b, a))\n",
    "c = np.array([3.5, -2.6, 0.0, -2.2, 3.14])\n",
    "print(np.copysign(b, c))"
   ]
  },
  {
   "cell_type": "markdown",
   "metadata": {},
   "source": [
    "## 32. ２つの配列の共通の値を発見せよ"
   ]
  },
  {
   "cell_type": "code",
   "execution_count": 74,
   "metadata": {},
   "outputs": [
    {
     "name": "stdout",
     "output_type": "stream",
     "text": [
      "[1 2 3 4 5 6 7 8 9] int64\n",
      "[2 2 2 2 2 2 2 2] int64\n",
      "[[2 2]\n",
      " [2 2]]\n",
      "[[[0 0]\n",
      "  [1 1]]\n",
      "\n",
      " [[2 2]\n",
      "  [3 3]]]\n"
     ]
    }
   ],
   "source": [
    "test = np.array(((((1,2,3,4,5,6,7,8,9)))))\n",
    "test1 = np.array((2,2,2,2,2,2,2,2,))\n",
    "test2 = np.array(((2,2),(2,2)))\n",
    "test3 = np.array((((0,0),(1,1)),((2,2),(3,3))))\n",
    "print(test, test.dtype)\n",
    "print(test1, test.dtype)\n",
    "print(test2)\n",
    "print(test3)\n"
   ]
  },
  {
   "cell_type": "code",
   "execution_count": 80,
   "metadata": {},
   "outputs": [
    {
     "name": "stdout",
     "output_type": "stream",
     "text": [
      "[2 3]\n",
      "[[2 3]\n",
      " [2 3]]\n"
     ]
    }
   ],
   "source": [
    "test = np.array([2,3])\n",
    "test1 = np.array([[2,3],[2,3]])\n",
    "print(test)\n",
    "print(test1)"
   ]
  },
  {
   "cell_type": "code",
   "execution_count": 102,
   "metadata": {},
   "outputs": [
    {
     "name": "stdout",
     "output_type": "stream",
     "text": [
      "[3 4] int64 <class 'numpy.ndarray'>\n",
      "[3 4]\n"
     ]
    }
   ],
   "source": [
    "A1 = np.array([1,5,3,4,5])\n",
    "A2 = np.array([7,2,3,4,6])\n",
    "# python 標準ライブラリ\n",
    "rest = np.array(list(set(A1) & set(A2)))\n",
    "print(rest, rest.dtype, type(rest))\n",
    "\n",
    "#　numpy 駆使\n",
    "print(np.intersect1d(A1,A2))"
   ]
  },
  {
   "cell_type": "code",
   "execution_count": 88,
   "metadata": {},
   "outputs": [
    {
     "name": "stdout",
     "output_type": "stream",
     "text": [
      "[3, 4] <class 'list'>\n"
     ]
    }
   ],
   "source": [
    "rest_te = list(set(A1) & set(A2))\n",
    "print(rest_te, type(rest_te))"
   ]
  },
  {
   "cell_type": "code",
   "execution_count": 98,
   "metadata": {},
   "outputs": [
    {
     "name": "stdout",
     "output_type": "stream",
     "text": [
      "[1 5 3 4 5] [7 2 3 4 6]\n",
      "[1, 0, 3, 4, 4]\n",
      "[1, 5, 3, 4, 5]\n",
      "[1, 3, 4, 5]\n",
      "[3, 4]\n"
     ]
    }
   ],
   "source": [
    "print(A1, A2)\n",
    "print(list(A1 & A2)) # ビット演算子　&　 (1=001, 7=111) = 001\n",
    "print(list(A1))\n",
    "print(list(set(A1)))\n",
    "print(list(set(A1) & set(A2))) #　積集合演算子　&"
   ]
  },
  {
   "cell_type": "markdown",
   "metadata": {},
   "source": [
    "## 34. 次の式の真偽値は?"
   ]
  },
  {
   "cell_type": "code",
   "execution_count": 107,
   "metadata": {},
   "outputs": [
    {
     "name": "stderr",
     "output_type": "stream",
     "text": [
      "/opt/anaconda3/lib/python3.7/site-packages/ipykernel_launcher.py:1: RuntimeWarning: invalid value encountered in sqrt\n",
      "  \"\"\"Entry point for launching an IPython kernel.\n"
     ]
    },
    {
     "data": {
      "text/plain": [
       "False"
      ]
     },
     "execution_count": 107,
     "metadata": {},
     "output_type": "execute_result"
    }
   ],
   "source": [
    "np.sqrt(-1) == np.emath.sqrt(-1)"
   ]
  },
  {
   "cell_type": "code",
   "execution_count": 105,
   "metadata": {},
   "outputs": [
    {
     "data": {
      "text/plain": [
       "1j"
      ]
     },
     "execution_count": 105,
     "metadata": {},
     "output_type": "execute_result"
    }
   ],
   "source": [
    "# np.sqrt(-1)\n",
    "np.emath.sqrt(-1)"
   ]
  },
  {
   "cell_type": "code",
   "execution_count": 106,
   "metadata": {},
   "outputs": [
    {
     "name": "stderr",
     "output_type": "stream",
     "text": [
      "/opt/anaconda3/lib/python3.7/site-packages/ipykernel_launcher.py:2: RuntimeWarning: invalid value encountered in sqrt\n",
      "  \n"
     ]
    },
    {
     "data": {
      "text/plain": [
       "False"
      ]
     },
     "execution_count": 106,
     "metadata": {},
     "output_type": "execute_result"
    }
   ],
   "source": [
    "#Mathematical functionss with automatic domain\n",
    "np.sqrt(-1) == np.emath.sqrt(-1)"
   ]
  },
  {
   "cell_type": "markdown",
   "metadata": {},
   "source": [
    "## 35. 昨日・今日・明日の日付を取得せよ"
   ]
  },
  {
   "cell_type": "code",
   "execution_count": 113,
   "metadata": {},
   "outputs": [
    {
     "name": "stdout",
     "output_type": "stream",
     "text": [
      "2024-10-06 datetime64[D] <class 'numpy.datetime64'>\n",
      "2024-10-07\n",
      "2024-10-08\n"
     ]
    }
   ],
   "source": [
    "yesterday = np.datetime64('today') - np.timedelta64(1)\n",
    "today = np.datetime64('today')\n",
    "tomorrow = np.datetime64('today') + np.timedelta64(1)\n",
    "print(yesterday, yesterday.dtype, type(yesterday))\n",
    "print(today)\n",
    "print(tomorrow)"
   ]
  },
  {
   "cell_type": "code",
   "execution_count": 115,
   "metadata": {},
   "outputs": [
    {
     "name": "stdout",
     "output_type": "stream",
     "text": [
      "2024-10-06 <class 'datetime.date'>\n",
      "2024-10-07\n",
      "2024-10-08\n"
     ]
    }
   ],
   "source": [
    "from datetime import date\n",
    "from datetime import timedelta\n",
    "y = date.today() - timedelta(1)\n",
    "print(y, type(y))\n",
    "print(date.today())\n",
    "print(date.today() + timedelta(1))"
   ]
  },
  {
   "cell_type": "markdown",
   "metadata": {},
   "source": [
    "## 36. 2020年9月の日付をすべて取得せよ"
   ]
  },
  {
   "cell_type": "code",
   "execution_count": 116,
   "metadata": {},
   "outputs": [
    {
     "name": "stdout",
     "output_type": "stream",
     "text": [
      "['2020-09-01' '2020-09-02' '2020-09-03' '2020-09-04' '2020-09-05'\n",
      " '2020-09-06' '2020-09-07' '2020-09-08' '2020-09-09' '2020-09-10'\n",
      " '2020-09-11' '2020-09-12' '2020-09-13' '2020-09-14' '2020-09-15'\n",
      " '2020-09-16' '2020-09-17' '2020-09-18' '2020-09-19' '2020-09-20'\n",
      " '2020-09-21' '2020-09-22' '2020-09-23' '2020-09-24' '2020-09-25'\n",
      " '2020-09-26' '2020-09-27' '2020-09-28' '2020-09-29' '2020-09-30']\n"
     ]
    }
   ],
   "source": [
    "print(np.arange('2020-09', '2020-10', dtype='datetime64[D]'))"
   ]
  },
  {
   "cell_type": "code",
   "execution_count": 122,
   "metadata": {},
   "outputs": [
    {
     "name": "stdout",
     "output_type": "stream",
     "text": [
      "['2020-09-01', '2020-09-02', '2020-09-03', '2020-09-04', '2020-09-05', '2020-09-06', '2020-09-07', '2020-09-08', '2020-09-09', '2020-09-10', '2020-09-11', '2020-09-12', '2020-09-13', '2020-09-14', '2020-09-15', '2020-09-16', '2020-09-17', '2020-09-18', '2020-09-19', '2020-09-20', '2020-09-21', '2020-09-22', '2020-09-23', '2020-09-24', '2020-09-25', '2020-09-26', '2020-09-27', '2020-09-28', '2020-09-29', '2020-09-30'] <class 'list'>\n"
     ]
    }
   ],
   "source": [
    "import calendar\n",
    "\n",
    "y = 2020\n",
    "m = 9\n",
    "start, end = calendar.monthrange(y,m)\n",
    "c =[f\"{y}-{str(m).zfill(2)}-{str(d).zfill(2)}\" for d in range(start,end+1)]\n",
    "print(c, type(c))"
   ]
  },
  {
   "cell_type": "markdown",
   "metadata": {},
   "source": [
    "## 37. 二つ配列A, BがそれぞれA=[1.0, 2.0], B=[3.0,4.0]のとき、(-(A+B)×B + 1) / 2 をメモリコピーあり・なしの場合でそれぞれ計算せよ。"
   ]
  },
  {
   "cell_type": "code",
   "execution_count": 126,
   "metadata": {},
   "outputs": [
    {
     "name": "stdout",
     "output_type": "stream",
     "text": [
      "メモリコピーあり\n",
      "Copy: [-2.5 -7. ]\n",
      "\n",
      "メモリコピーなし\n",
      "A + B\n",
      "[3. 5.]\n",
      "[2. 3.]\n",
      "\n",
      "(A + B) × B\n",
      "[ 6. 15.]\n",
      "[2. 3.]\n",
      "\n",
      "(A + B) × B - 1\n",
      "[ 5. 14.]\n",
      "[2. 3.]\n",
      "\n",
      "-1 × (A + B) × B + 1\n",
      "[ -5. -14.]\n",
      "[2. 3.]\n",
      "\n",
      "(-1 × (A + B) × B + 1) / 2\n",
      "No copy: [-2.5 -7. ]\n"
     ]
    }
   ],
   "source": [
    "A = np.array([1.0, 2.0])\n",
    "B = np.array([2.0, 3.0])\n",
    "\n",
    "#メモリコピーあり\n",
    "print(\"メモリコピーあり\")\n",
    "print(f\"Copy: {(-1*(A+B)*B+1)/2}\")\n",
    "\n",
    "#メモリコピーなし\n",
    "print(\"\\nメモリコピーなし\")\n",
    "# A+B\n",
    "print(\"A + B\")\n",
    "np.add(A,B, out=A)\n",
    "print(A)\n",
    "print(B)\n",
    "# (A+B)*B\n",
    "print(\"\\n(A + B) × B\")\n",
    "np.multiply(A,B, out=A)\n",
    "print(A)\n",
    "print(B)\n",
    "\n",
    "print(\"\\n(A + B) × B - 1\")\n",
    "np.subtract(A,1,out=A)\n",
    "print(A)\n",
    "print(B)\n",
    "\n",
    "print(\"\\n-1 × (A + B) × B + 1\")\n",
    "np.negative(A, out=A)\n",
    "print(A)\n",
    "print(B)\n",
    "\n",
    "print(\"\\n(-1 × (A + B) × B + 1) / 2\")\n",
    "np.divide(A,2,out=A)\n",
    "print(f\"No copy: {A}\")\n",
    "\n",
    "\n",
    "      \n"
   ]
  },
  {
   "cell_type": "markdown",
   "metadata": {},
   "source": [
    "## 38. 特定範囲の一様乱数配列から整数部のみを抽出して配列を生成せよ"
   ]
  },
  {
   "cell_type": "code",
   "execution_count": 140,
   "metadata": {},
   "outputs": [
    {
     "name": "stdout",
     "output_type": "stream",
     "text": [
      "[0.71355129 6.41411618 4.34391755]\n",
      "[2.41257637 9.09259484 3.22584176 4.63991469 1.13761705 5.27907738\n",
      " 7.0921368  3.56665686 8.0207846  5.13053419]\n",
      "[2, 9, 3, 4, 1, 5, 7, 3, 8, 5]\n",
      "[2. 9. 3. 4. 1. 5. 7. 3. 8. 5.]\n",
      "[2. 9. 3. 4. 1. 5. 7. 3. 8. 5.]\n",
      "[2. 9. 3. 4. 1. 5. 7. 3. 8. 5.]\n",
      "[2 9 3 4 1 5 7 3 8 5]\n",
      "[2. 9. 3. 4. 1. 5. 7. 3. 8. 5.]\n"
     ]
    }
   ],
   "source": [
    "Z = np.random.uniform((0,10,10))\n",
    "print(Z)\n",
    "Z = np.random.uniform(0,10,10)\n",
    "print(Z)\n",
    "print([int(str(i)[0]) for i in Z])\n",
    "print(Z - Z % 1)\n",
    "print(Z // 1)\n",
    "print(np.floor(Z))\n",
    "print(Z.astype(int))\n",
    "print(np.trunc(Z))"
   ]
  },
  {
   "cell_type": "code",
   "execution_count": 135,
   "metadata": {},
   "outputs": [
    {
     "name": "stdout",
     "output_type": "stream",
     "text": [
      "[0.85440542 1.77133913]\n"
     ]
    }
   ],
   "source": [
    "A = np.random.uniform(0,2,2)\n",
    "print(A)"
   ]
  },
  {
   "cell_type": "code",
   "execution_count": 139,
   "metadata": {},
   "outputs": [
    {
     "name": "stdout",
     "output_type": "stream",
     "text": [
      "[1.15913094 1.98019852 1.84127839 0.42396487 0.43033683]\n"
     ]
    }
   ],
   "source": [
    "print(np.random.uniform(0,2, 5))"
   ]
  },
  {
   "cell_type": "markdown",
   "metadata": {},
   "source": [
    "## 39. 行の要素が0から4である 5 × 5 の配列を定義せよ"
   ]
  },
  {
   "cell_type": "code",
   "execution_count": 146,
   "metadata": {},
   "outputs": [
    {
     "name": "stdout",
     "output_type": "stream",
     "text": [
      "[[0. 1. 2. 3. 4.]\n",
      " [0. 1. 2. 3. 4.]\n",
      " [0. 1. 2. 3. 4.]\n",
      " [0. 1. 2. 3. 4.]\n",
      " [0. 1. 2. 3. 4.]]\n",
      "int64\n"
     ]
    }
   ],
   "source": [
    "Z = np.zeros((5,5))\n",
    "Z += np.arange(5)\n",
    "print(Z)\n",
    "print(np.arange(5).dtype)"
   ]
  },
  {
   "cell_type": "code",
   "execution_count": 149,
   "metadata": {},
   "outputs": [
    {
     "name": "stdout",
     "output_type": "stream",
     "text": [
      "<class 'numpy.ndarray'>\n",
      "[0 1 2 3 4] int64 <class 'numpy.ndarray'>\n",
      "[[0 1 2 3 4]\n",
      " [0 1 2 3 4]\n",
      " [0 1 2 3 4]\n",
      " [0 1 2 3 4]\n",
      " [0 1 2 3 4]]\n"
     ]
    }
   ],
   "source": [
    "Z = np.array(np.arange(0,5))\n",
    "print(type(Z))\n",
    "Z = np.arange(0,5)\n",
    "print(Z, Z.dtype, type(Z))\n",
    "\n",
    "for _ in range(4):\n",
    "    Z = np.vstack((Z, np.arange(0,5)))\n",
    "print(Z)"
   ]
  },
  {
   "cell_type": "code",
   "execution_count": null,
   "metadata": {},
   "outputs": [],
   "source": []
  }
 ],
 "metadata": {
  "kernelspec": {
   "display_name": "Python 3",
   "language": "python",
   "name": "python3"
  },
  "language_info": {
   "codemirror_mode": {
    "name": "ipython",
    "version": 3
   },
   "file_extension": ".py",
   "mimetype": "text/x-python",
   "name": "python",
   "nbconvert_exporter": "python",
   "pygments_lexer": "ipython3",
   "version": "3.7.6"
  }
 },
 "nbformat": 4,
 "nbformat_minor": 4
}

{
 "cells": [
  {
   "cell_type": "markdown",
   "metadata": {},
   "source": [
    "# 第3章 ようこそ、テンソルの深みへ"
   ]
  },
  {
   "cell_type": "code",
   "execution_count": 2,
   "metadata": {},
   "outputs": [],
   "source": [
    "import numpy as np"
   ]
  },
  {
   "cell_type": "markdown",
   "metadata": {},
   "source": [
    "## 20. 8 × 8 の行列を作成し、チェッカーボード模様を01で表現せよ"
   ]
  },
  {
   "cell_type": "code",
   "execution_count": 4,
   "metadata": {},
   "outputs": [
    {
     "name": "stdout",
     "output_type": "stream",
     "text": [
      "[[1 0 1 0 1 0 1 0]\n",
      " [0 1 0 1 0 1 0 1]\n",
      " [1 0 1 0 1 0 1 0]\n",
      " [0 1 0 1 0 1 0 1]\n",
      " [1 0 1 0 1 0 1 0]\n",
      " [0 1 0 1 0 1 0 1]\n",
      " [1 0 1 0 1 0 1 0]\n",
      " [0 1 0 1 0 1 0 1]]\n"
     ]
    }
   ],
   "source": [
    "a = np.zeros((8,8), dtype=int)\n",
    "for i in range(8):\n",
    "    for j in range(8):\n",
    "        if i % 2 == 0 and j % 2 == 0:\n",
    "            a[i,j] = 1\n",
    "        elif i % 2 == 1 and j % 2 == 1:\n",
    "            a[i,j] = 1\n",
    "        else:\n",
    "            a[i,j] = 0\n",
    "print(a)"
   ]
  },
  {
   "cell_type": "code",
   "execution_count": 41,
   "metadata": {},
   "outputs": [
    {
     "name": "stdout",
     "output_type": "stream",
     "text": [
      "[[0 1 0 1 0 1 0 1]\n",
      " [1 0 1 0 1 0 1 0]\n",
      " [0 1 0 1 0 1 0 1]\n",
      " [1 0 1 0 1 0 1 0]\n",
      " [0 1 0 1 0 1 0 1]\n",
      " [1 0 1 0 1 0 1 0]\n",
      " [0 1 0 1 0 1 0 1]\n",
      " [1 0 1 0 1 0 1 0]]\n"
     ]
    }
   ],
   "source": [
    "b =np.indices((8,8), dtype=int).sum(axis=0) % 2\n",
    "print(b)"
   ]
  },
  {
   "cell_type": "code",
   "execution_count": 20,
   "metadata": {},
   "outputs": [
    {
     "name": "stdout",
     "output_type": "stream",
     "text": [
      "[[0 1 0 1 0 1 0 1]\n",
      " [1 0 1 0 1 0 1 0]\n",
      " [0 1 0 1 0 1 0 1]\n",
      " [1 0 1 0 1 0 1 0]\n",
      " [0 1 0 1 0 1 0 1]\n",
      " [1 0 1 0 1 0 1 0]\n",
      " [0 1 0 1 0 1 0 1]\n",
      " [1 0 1 0 1 0 1 0]]\n"
     ]
    }
   ],
   "source": [
    "matrix = np.zeros((8,8), dtype=int)\n",
    "matrix[1::2,::2] = 1\n",
    "matrix[::2,1::2] = 1\n",
    "print(matrix)"
   ]
  },
  {
   "cell_type": "code",
   "execution_count": 25,
   "metadata": {},
   "outputs": [],
   "source": [
    "def a(n):\n",
    "    matrix = np.zeros((n,n), dtype=int)\n",
    "    for i in range(n):\n",
    "        for j in range(n):\n",
    "            if i % 2 == 0 and j % 2 == 0:\n",
    "                matrix[i,j] = 1\n",
    "            elif i % 2 == 1 and j % 2 == 1:\n",
    "                matrix[i,j] = 1\n",
    "            else:\n",
    "                matrix[i,j] = 0\n",
    "    return print(matrix)\n",
    "\n",
    "def b(n):\n",
    "    return print(np.indices((n,n), dtype=int).sum(axis=0) % 2)\n",
    "\n",
    "def c(n):\n",
    "    matrix = np.zeros((n,n), dtype=int)\n",
    "    matrix[1::2,::2] = 1\n",
    "    matrix[::2,1::2] = 1\n",
    "    return print(matrix)"
   ]
  },
  {
   "cell_type": "code",
   "execution_count": 29,
   "metadata": {},
   "outputs": [
    {
     "name": "stdout",
     "output_type": "stream",
     "text": [
      "[[1 0 1 0 1 0 1 0]\n",
      " [0 1 0 1 0 1 0 1]\n",
      " [1 0 1 0 1 0 1 0]\n",
      " [0 1 0 1 0 1 0 1]\n",
      " [1 0 1 0 1 0 1 0]\n",
      " [0 1 0 1 0 1 0 1]\n",
      " [1 0 1 0 1 0 1 0]\n",
      " [0 1 0 1 0 1 0 1]]\n"
     ]
    }
   ],
   "source": [
    "# %timeit a(8)\n",
    "# %timeit b(8)\n",
    "# %timeit c(8)\n",
    "a(8)"
   ]
  },
  {
   "cell_type": "markdown",
   "metadata": {},
   "source": [
    "## 21. (6,6,6)の形の配列があったときに100番目の要素のインデックス(x,y,z)を求めよ"
   ]
  },
  {
   "cell_type": "code",
   "execution_count": 30,
   "metadata": {},
   "outputs": [
    {
     "name": "stdout",
     "output_type": "stream",
     "text": [
      "(2, 4, 3)\n"
     ]
    }
   ],
   "source": [
    "print(np.unravel_index(99,(6,6,6)))"
   ]
  },
  {
   "cell_type": "markdown",
   "metadata": {},
   "source": [
    "## 22. tile関数を使って 8 × 8 のチェッカーボードを作れ"
   ]
  },
  {
   "cell_type": "code",
   "execution_count": 31,
   "metadata": {},
   "outputs": [
    {
     "name": "stdout",
     "output_type": "stream",
     "text": [
      "[[0 1 0 1 0 1 0 1]\n",
      " [1 0 1 0 1 0 1 0]\n",
      " [0 1 0 1 0 1 0 1]\n",
      " [1 0 1 0 1 0 1 0]\n",
      " [0 1 0 1 0 1 0 1]\n",
      " [1 0 1 0 1 0 1 0]\n",
      " [0 1 0 1 0 1 0 1]\n",
      " [1 0 1 0 1 0 1 0]]\n"
     ]
    }
   ],
   "source": [
    "print(np.tile(np.array([[0,1],[1,0]]),(4,4)))"
   ]
  },
  {
   "cell_type": "markdown",
   "metadata": {},
   "source": [
    "## 23. 5 × 5 の乱数配列を 0-1 に収まるように正規化せよ"
   ]
  },
  {
   "cell_type": "code",
   "execution_count": 47,
   "metadata": {},
   "outputs": [
    {
     "name": "stdout",
     "output_type": "stream",
     "text": [
      "[[0.20078573 0.37719719 0.32792667 0.72481901 0.42417323]\n",
      " [0.63047598 0.76597292 0.12465679 0.12847314 0.11539175]\n",
      " [0.98685894 0.56714524 0.79450645 0.56117867 0.41590426]\n",
      " [0.36417258 0.82234869 0.2348588  0.23874103 0.10058417]\n",
      " [0.11587809 0.87994064 0.98882242 0.75365559 0.31421803]]\n",
      "\n",
      "[[0.11280932 0.31141759 0.25594765 0.70277861 0.36430435]\n",
      " [0.59656495 0.74911067 0.02710153 0.03139806 0.01667073]\n",
      " [0.99778947 0.52526568 0.78123441 0.51854837 0.35499495]\n",
      " [0.29675417 0.81257987 0.15116961 0.15554031 0.        ]\n",
      " [0.01721826 0.87741827 1.         0.73524352 0.24051413]]\n"
     ]
    }
   ],
   "source": [
    "a = np.random.random((5,5))\n",
    "print(a)\n",
    "print()\n",
    "print((a - np.min(a))/(np.max(a) - np.min(a)))"
   ]
  },
  {
   "cell_type": "markdown",
   "metadata": {},
   "source": [
    "## 24. xy座標軸上の整数を表すdtypeを自作せよ"
   ]
  },
  {
   "cell_type": "code",
   "execution_count": 54,
   "metadata": {},
   "outputs": [
    {
     "data": {
      "text/plain": [
       "array([(-1, 5), ( 3, 8), ( 4, 4)], dtype=[('x', '<i8'), ('y', '<i8')])"
      ]
     },
     "execution_count": 54,
     "metadata": {},
     "output_type": "execute_result"
    }
   ],
   "source": [
    "mytype = np.dtype([('x',np.int),('y',np.int)])\n",
    "a = np.array([(-1, 5),(3,8),(4,4)], dtype=mytype)\n",
    "a"
   ]
  },
  {
   "cell_type": "markdown",
   "metadata": {},
   "source": [
    "## 25. RGBA(色の三原色 + 透明度)を表す独自のdtypeを作成せよ"
   ]
  },
  {
   "cell_type": "code",
   "execution_count": 59,
   "metadata": {},
   "outputs": [
    {
     "data": {
      "text/plain": [
       "array([(255, 255, 255, 0)],\n",
       "      dtype=[('r', 'u1'), ('g', 'u1'), ('b', 'u1'), ('a', 'u1')])"
      ]
     },
     "execution_count": 59,
     "metadata": {},
     "output_type": "execute_result"
    }
   ],
   "source": [
    "color = np.dtype([('r',np.ubyte),('g',np.ubyte),('b',np.ubyte),('a',np.ubyte)])\n",
    "test = np.array([(255,255,255,0.5)], dtype=color)\n",
    "test"
   ]
  },
  {
   "cell_type": "markdown",
   "metadata": {},
   "source": [
    "## 26. 2 × 2 の行列と 2 × 2 の行列の行列積を求めよ"
   ]
  },
  {
   "cell_type": "code",
   "execution_count": 60,
   "metadata": {},
   "outputs": [
    {
     "data": {
      "text/plain": [
       "array([[ 7, 10],\n",
       "       [15, 22]])"
      ]
     },
     "execution_count": 60,
     "metadata": {},
     "output_type": "execute_result"
    }
   ],
   "source": [
    "A = np.array([[1,2],[3,4]])\n",
    "B = np.array([[1,2],[3,4]])\n",
    "A @ B"
   ]
  },
  {
   "cell_type": "markdown",
   "metadata": {},
   "source": [
    "## 27. 1次元の配列のうち要素が3から8の値となるものは符号反転した配列を生成せよ。Numpyを利用した場合としなかった場合の実行時間を計測せよ。"
   ]
  },
  {
   "cell_type": "code",
   "execution_count": 61,
   "metadata": {},
   "outputs": [
    {
     "name": "stdout",
     "output_type": "stream",
     "text": [
      "124 µs ± 5.99 µs per loop (mean ± std. dev. of 7 runs, 10000 loops each)\n",
      "[0, 1, 2, -3, -4, -5, -6, -7, -8, 9]\n"
     ]
    }
   ],
   "source": [
    "def negate38(a):\n",
    "    l = []\n",
    "    for i in a:\n",
    "        if a[i] >= 3 and a[i] <= 8:\n",
    "            l.append(-a[i])\n",
    "        else:\n",
    "            l.append(a[i])\n",
    "    return l\n",
    "\n",
    "a = np.arange(10)\n",
    "%timeit negate38(a)\n",
    "print(negate38(a))"
   ]
  },
  {
   "cell_type": "code",
   "execution_count": 62,
   "metadata": {},
   "outputs": [
    {
     "name": "stdout",
     "output_type": "stream",
     "text": [
      "39.5 µs ± 112 ns per loop (mean ± std. dev. of 7 runs, 10000 loops each)\n"
     ]
    },
    {
     "data": {
      "text/plain": [
       "array([ 0,  1,  2, -3, -4, -5, -6, -7, -8,  9])"
      ]
     },
     "execution_count": 62,
     "metadata": {},
     "output_type": "execute_result"
    }
   ],
   "source": [
    "Z = np.arange(10)\n",
    "%timeit Z[(3<=Z) & (Z<=8)] *= -1\n",
    "Z"
   ]
  },
  {
   "cell_type": "markdown",
   "metadata": {},
   "source": [
    "## 28. numpyをインポートしない状態でsum()メソッドを実行した場合と、numpyを*インポートした後にsum()を実行した場合とで結果を比較せよ"
   ]
  },
  {
   "cell_type": "code",
   "execution_count": 65,
   "metadata": {},
   "outputs": [
    {
     "name": "stdout",
     "output_type": "stream",
     "text": [
      "9\n",
      "10\n"
     ]
    }
   ],
   "source": [
    "print(sum(range(5), -1)) # sum()　第二引数はstartを表す\n",
    "\n",
    "from numpy import *\n",
    "print(sum(range(5), -1)) #sum() 第二引数はaxisを表す"
   ]
  },
  {
   "cell_type": "code",
   "execution_count": 69,
   "metadata": {},
   "outputs": [
    {
     "name": "stdout",
     "output_type": "stream",
     "text": [
      "10\n"
     ]
    }
   ],
   "source": [
    "print(sum(range(5),0))\n",
    "# print(sum(range(5),1)) #エラー"
   ]
  },
  {
   "cell_type": "markdown",
   "metadata": {},
   "source": [
    "### point\n",
    "####    axis\n",
    "\n",
    "    二次元配列において\n",
    "    axis = 0 は行方向\n",
    "    axis = 1 は列方向"
   ]
  },
  {
   "cell_type": "markdown",
   "metadata": {},
   "source": [
    "## 29. ベクトル　Zで次の表現のうち問題があるのはどれか?"
   ]
  },
  {
   "cell_type": "code",
   "execution_count": 76,
   "metadata": {},
   "outputs": [
    {
     "name": "stdout",
     "output_type": "stream",
     "text": [
      "[1 2 3 4 5]\n",
      "[   1    4   27  256 3125]\n",
      "[ 1  2  4  8 16]\n",
      "[False False False False False]\n",
      "[0.+1.j 0.+2.j 0.+3.j 0.+4.j 0.+5.j]\n",
      "[1. 2. 3. 4. 5.]\n"
     ]
    }
   ],
   "source": [
    "import numpy as np\n",
    "\n",
    "Z = np.array([1,2,3,4,5])\n",
    "print(Z)\n",
    "\n",
    "# 累乗\n",
    "print(Z**Z)\n",
    "\n",
    "#ビット演算　[2 << 1 >> 2] → 2を2新数で1bit左シフトし(4)、それを2ビット右シフトしている(1)\n",
    "print(2<<Z>>2)\n",
    "\n",
    "# Z < -Z の真偽値出力(True or False)\n",
    "print(Z < -Z)\n",
    "\n",
    "# 複素数jの掛け算\n",
    "print(1j*Z)\n",
    "\n",
    "# 二回除算\n",
    "print(Z/1/1)\n",
    "\n",
    "# Z<Z>Z　はスカラー値ならOK、今回はベクトルなのでNG\n",
    "# print(Z<Z>Z)"
   ]
  },
  {
   "cell_type": "code",
   "execution_count": null,
   "metadata": {},
   "outputs": [],
   "source": []
  },
  {
   "cell_type": "code",
   "execution_count": null,
   "metadata": {},
   "outputs": [],
   "source": []
  }
 ],
 "metadata": {
  "kernelspec": {
   "display_name": "Python 3",
   "language": "python",
   "name": "python3"
  },
  "language_info": {
   "codemirror_mode": {
    "name": "ipython",
    "version": 3
   },
   "file_extension": ".py",
   "mimetype": "text/x-python",
   "name": "python",
   "nbconvert_exporter": "python",
   "pygments_lexer": "ipython3",
   "version": "3.7.6"
  }
 },
 "nbformat": 4,
 "nbformat_minor": 4
}

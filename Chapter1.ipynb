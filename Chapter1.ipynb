{
 "cells": [
  {
   "cell_type": "markdown",
   "metadata": {},
   "source": [
    "## Numpyをnpという名前でimportせよ"
   ]
  },
  {
   "cell_type": "code",
   "execution_count": 1,
   "metadata": {},
   "outputs": [],
   "source": [
    "import numpy as np"
   ]
  },
  {
   "cell_type": "markdown",
   "metadata": {},
   "source": [
    "## 02. Numpyのバージョンを確認せよ"
   ]
  },
  {
   "cell_type": "code",
   "execution_count": 3,
   "metadata": {},
   "outputs": [
    {
     "name": "stdout",
     "output_type": "stream",
     "text": [
      "1.18.1\n"
     ]
    }
   ],
   "source": [
    "print(np.__version__)"
   ]
  },
  {
   "cell_type": "markdown",
   "metadata": {},
   "source": [
    "## 03. Numpyが利用しているBLASの種類を確認せよ"
   ]
  },
  {
   "cell_type": "code",
   "execution_count": 4,
   "metadata": {},
   "outputs": [
    {
     "name": "stdout",
     "output_type": "stream",
     "text": [
      "blas_mkl_info:\n",
      "    libraries = ['mkl_rt', 'pthread']\n",
      "    library_dirs = ['/opt/anaconda3/lib']\n",
      "    define_macros = [('SCIPY_MKL_H', None), ('HAVE_CBLAS', None)]\n",
      "    include_dirs = ['/opt/anaconda3/include']\n",
      "blas_opt_info:\n",
      "    libraries = ['mkl_rt', 'pthread']\n",
      "    library_dirs = ['/opt/anaconda3/lib']\n",
      "    define_macros = [('SCIPY_MKL_H', None), ('HAVE_CBLAS', None)]\n",
      "    include_dirs = ['/opt/anaconda3/include']\n",
      "lapack_mkl_info:\n",
      "    libraries = ['mkl_rt', 'pthread']\n",
      "    library_dirs = ['/opt/anaconda3/lib']\n",
      "    define_macros = [('SCIPY_MKL_H', None), ('HAVE_CBLAS', None)]\n",
      "    include_dirs = ['/opt/anaconda3/include']\n",
      "lapack_opt_info:\n",
      "    libraries = ['mkl_rt', 'pthread']\n",
      "    library_dirs = ['/opt/anaconda3/lib']\n",
      "    define_macros = [('SCIPY_MKL_H', None), ('HAVE_CBLAS', None)]\n",
      "    include_dirs = ['/opt/anaconda3/include']\n",
      "None\n"
     ]
    }
   ],
   "source": [
    "print(np.__config__.show())"
   ]
  },
  {
   "cell_type": "code",
   "execution_count": 5,
   "metadata": {},
   "outputs": [
    {
     "name": "stdout",
     "output_type": "stream",
     "text": [
      "blas_mkl_info:\n",
      "    libraries = ['mkl_rt', 'pthread']\n",
      "    library_dirs = ['/opt/anaconda3/lib']\n",
      "    define_macros = [('SCIPY_MKL_H', None), ('HAVE_CBLAS', None)]\n",
      "    include_dirs = ['/opt/anaconda3/include']\n",
      "blas_opt_info:\n",
      "    libraries = ['mkl_rt', 'pthread']\n",
      "    library_dirs = ['/opt/anaconda3/lib']\n",
      "    define_macros = [('SCIPY_MKL_H', None), ('HAVE_CBLAS', None)]\n",
      "    include_dirs = ['/opt/anaconda3/include']\n",
      "lapack_mkl_info:\n",
      "    libraries = ['mkl_rt', 'pthread']\n",
      "    library_dirs = ['/opt/anaconda3/lib']\n",
      "    define_macros = [('SCIPY_MKL_H', None), ('HAVE_CBLAS', None)]\n",
      "    include_dirs = ['/opt/anaconda3/include']\n",
      "lapack_opt_info:\n",
      "    libraries = ['mkl_rt', 'pthread']\n",
      "    library_dirs = ['/opt/anaconda3/lib']\n",
      "    define_macros = [('SCIPY_MKL_H', None), ('HAVE_CBLAS', None)]\n",
      "    include_dirs = ['/opt/anaconda3/include']\n",
      "None\n"
     ]
    }
   ],
   "source": [
    "print(np.show_config())"
   ]
  },
  {
   "cell_type": "code",
   "execution_count": 7,
   "metadata": {},
   "outputs": [
    {
     "name": "stdout",
     "output_type": "stream",
     "text": [
      "Reading package lists... Done\n",
      "Building dependency tree       \n",
      "Reading state information... Done\n",
      "E: Unable to locate package lshw　-y\n"
     ]
    }
   ],
   "source": [
    "!apt-get install lshw　"
   ]
  },
  {
   "cell_type": "code",
   "execution_count": 8,
   "metadata": {},
   "outputs": [
    {
     "name": "stdout",
     "output_type": "stream",
     "text": [
      "/usr/bin/sh: 1: lshw: not found\n"
     ]
    }
   ],
   "source": [
    "!lshw --version"
   ]
  },
  {
   "cell_type": "code",
   "execution_count": 9,
   "metadata": {},
   "outputs": [
    {
     "name": "stdout",
     "output_type": "stream",
     "text": [
      "Reading package lists... Done\n",
      "Building dependency tree       \n",
      "Reading state information... Done\n",
      "The following additional packages will be installed:\n",
      "  libkmod2 libpci3 libusb-1.0-0 pci.ids pciutils usb.ids usbutils\n",
      "The following NEW packages will be installed:\n",
      "  libkmod2 libpci3 libusb-1.0-0 lshw pci.ids pciutils usb.ids usbutils\n",
      "0 upgraded, 8 newly installed, 0 to remove and 8 not upgraded.\n",
      "Need to get 910 kB of archives.\n",
      "After this operation, 3653 kB of additional disk space will be used.\n",
      "Get:1 http://archive.ubuntu.com/ubuntu focal/main amd64 libkmod2 amd64 27-1ubuntu2 [44.3 kB]\n",
      "Get:2 http://archive.ubuntu.com/ubuntu focal/main amd64 pci.ids all 0.0~2020.03.20-1 [217 kB]\n",
      "Get:3 http://archive.ubuntu.com/ubuntu focal/main amd64 libpci3 amd64 1:3.6.4-1 [26.8 kB]\n",
      "Get:4 http://archive.ubuntu.com/ubuntu focal/main amd64 libusb-1.0-0 amd64 2:1.0.23-2build1 [46.5 kB]\n",
      "Get:5 http://archive.ubuntu.com/ubuntu focal/main amd64 lshw amd64 02.18.85-0.3ubuntu2 [270 kB]\n",
      "Get:6 http://archive.ubuntu.com/ubuntu focal/main amd64 pciutils amd64 1:3.6.4-1 [56.5 kB]\n",
      "Get:7 http://archive.ubuntu.com/ubuntu focal/main amd64 usb.ids all 2020.03.19-1 [176 kB]\n",
      "Get:8 http://archive.ubuntu.com/ubuntu focal/main amd64 usbutils amd64 1:012-2 [72.9 kB]\n",
      "Fetched 910 kB in 2s (427 kB/s)     \n",
      "debconf: delaying package configuration, since apt-utils is not installed\n",
      "Selecting previously unselected package libkmod2:amd64.\n",
      "(Reading database ... 10486 files and directories currently installed.)\n",
      "Preparing to unpack .../0-libkmod2_27-1ubuntu2_amd64.deb ...\n",
      "Unpacking libkmod2:amd64 (27-1ubuntu2) ...\n",
      "Selecting previously unselected package pci.ids.\n",
      "Preparing to unpack .../1-pci.ids_0.0~2020.03.20-1_all.deb ...\n",
      "Unpacking pci.ids (0.0~2020.03.20-1) ...\n",
      "Selecting previously unselected package libpci3:amd64.\n",
      "Preparing to unpack .../2-libpci3_1%3a3.6.4-1_amd64.deb ...\n",
      "Unpacking libpci3:amd64 (1:3.6.4-1) ...\n",
      "Selecting previously unselected package libusb-1.0-0:amd64.\n",
      "Preparing to unpack .../3-libusb-1.0-0_2%3a1.0.23-2build1_amd64.deb ...\n",
      "Unpacking libusb-1.0-0:amd64 (2:1.0.23-2build1) ...\n",
      "Selecting previously unselected package lshw.\n",
      "Preparing to unpack .../4-lshw_02.18.85-0.3ubuntu2_amd64.deb ...\n",
      "Unpacking lshw (02.18.85-0.3ubuntu2) ...\n",
      "Selecting previously unselected package pciutils.\n",
      "Preparing to unpack .../5-pciutils_1%3a3.6.4-1_amd64.deb ...\n",
      "Unpacking pciutils (1:3.6.4-1) ...\n",
      "Selecting previously unselected package usb.ids.\n",
      "Preparing to unpack .../6-usb.ids_2020.03.19-1_all.deb ...\n",
      "Unpacking usb.ids (2020.03.19-1) ...\n",
      "Selecting previously unselected package usbutils.\n",
      "Preparing to unpack .../7-usbutils_1%3a012-2_amd64.deb ...\n",
      "Unpacking usbutils (1:012-2) ...\n",
      "Setting up pci.ids (0.0~2020.03.20-1) ...\n",
      "Setting up lshw (02.18.85-0.3ubuntu2) ...\n",
      "Setting up usb.ids (2020.03.19-1) ...\n",
      "Setting up libpci3:amd64 (1:3.6.4-1) ...\n",
      "Setting up libusb-1.0-0:amd64 (2:1.0.23-2build1) ...\n",
      "Setting up libkmod2:amd64 (27-1ubuntu2) ...\n",
      "Setting up usbutils (1:012-2) ...\n",
      "Setting up pciutils (1:3.6.4-1) ...\n",
      "Processing triggers for libc-bin (2.31-0ubuntu9) ...\n"
     ]
    }
   ],
   "source": [
    "!apt-get install lshw -y"
   ]
  },
  {
   "cell_type": "code",
   "execution_count": 11,
   "metadata": {},
   "outputs": [
    {
     "name": "stdout",
     "output_type": "stream",
     "text": [
      "                                 *-cpu:0\n",
      "          physical id: 1\n",
      "          bus info: cpu@0\n",
      "          width: 32 bits\n",
      "     *-cpu:1\n",
      "          physical id: 2\n",
      "          bus info: cpu@1\n",
      "          width: 32 bits\n",
      "     *-cpu:2\n",
      "          physical id: 3\n",
      "          bus info: cpu@2\n",
      "          width: 32 bits\n",
      "     *-cpu:3\n",
      "          physical id: 4\n",
      "          bus info: cpu@3\n",
      "          width: 32 bits\n"
     ]
    }
   ],
   "source": [
    "!lshw |grep -A 1 -i \"cpu\""
   ]
  },
  {
   "cell_type": "markdown",
   "metadata": {},
   "source": [
    "## 04. サイズが10の全要素が0の一次元ベクトルを生成せよ"
   ]
  },
  {
   "cell_type": "code",
   "execution_count": 12,
   "metadata": {},
   "outputs": [
    {
     "name": "stdout",
     "output_type": "stream",
     "text": [
      "[0 0 0 0 0 0 0 0 0 0]\n"
     ]
    }
   ],
   "source": [
    "a = np.zeros(10, dtype=np.int)\n",
    "print(a)"
   ]
  },
  {
   "cell_type": "markdown",
   "metadata": {},
   "source": [
    "5. サイズが10の全要素が0の一次元リストを生成せよ"
   ]
  },
  {
   "cell_type": "code",
   "execution_count": 13,
   "metadata": {},
   "outputs": [
    {
     "name": "stdout",
     "output_type": "stream",
     "text": [
      "[0, 0, 0, 0, 0, 0, 0, 0, 0, 0]\n"
     ]
    }
   ],
   "source": [
    "b = []\n",
    "for i in range(10):\n",
    "    b.append(0)\n",
    "print(b)"
   ]
  },
  {
   "cell_type": "markdown",
   "metadata": {},
   "source": [
    "06. [4]と[5]のリストに索引が値になるように代入を行い、各要素のアドレスをid()で表示せよ。"
   ]
  },
  {
   "cell_type": "code",
   "execution_count": 16,
   "metadata": {},
   "outputs": [
    {
     "name": "stdout",
     "output_type": "stream",
     "text": [
      "a[0]:0,275702222928 | b[0]:0,274881417952\n",
      "a[1]:1,275702222928 | b[1]:1,274881417984\n",
      "a[2]:2,275702222928 | b[2]:2,274881418016\n",
      "a[3]:3,275702222928 | b[3]:3,274881418048\n",
      "a[4]:4,275702222928 | b[4]:4,274881418080\n",
      "a[5]:5,275702222928 | b[5]:5,274881418112\n",
      "a[6]:6,275702222928 | b[6]:6,274881418144\n",
      "a[7]:7,275702222928 | b[7]:7,274881418176\n",
      "a[8]:8,275702222928 | b[8]:8,274881418208\n",
      "a[9]:9,275702222928 | b[9]:9,274881418240\n"
     ]
    }
   ],
   "source": [
    "for i in range(len(a)):\n",
    "    a[i] = i\n",
    "    b[i] = i\n",
    "    print(f\"a[{i}]:{a[i]},{id(a[i])} | b[{i}]:{b[i]},{id(b[i])}\")"
   ]
  },
  {
   "cell_type": "markdown",
   "metadata": {},
   "source": [
    "7. コマンドラインからNumpyのnp.dotのドキュメントを取得"
   ]
  },
  {
   "cell_type": "code",
   "execution_count": 17,
   "metadata": {},
   "outputs": [
    {
     "name": "stdout",
     "output_type": "stream",
     "text": [
      " dot(*args, **kwargs)\n",
      "\n",
      "dot(a, b, out=None)\n",
      "\n",
      "Dot product of two arrays. Specifically,\n",
      "\n",
      "- If both `a` and `b` are 1-D arrays, it is inner product of vectors\n",
      "  (without complex conjugation).\n",
      "\n",
      "- If both `a` and `b` are 2-D arrays, it is matrix multiplication,\n",
      "  but using :func:`matmul` or ``a @ b`` is preferred.\n",
      "\n",
      "- If either `a` or `b` is 0-D (scalar), it is equivalent to :func:`multiply`\n",
      "  and using ``numpy.multiply(a, b)`` or ``a * b`` is preferred.\n",
      "\n",
      "- If `a` is an N-D array and `b` is a 1-D array, it is a sum product over\n",
      "  the last axis of `a` and `b`.\n",
      "\n",
      "- If `a` is an N-D array and `b` is an M-D array (where ``M>=2``), it is a\n",
      "  sum product over the last axis of `a` and the second-to-last axis of `b`::\n",
      "\n",
      "    dot(a, b)[i,j,k,m] = sum(a[i,j,:] * b[k,:,m])\n",
      "\n",
      "Parameters\n",
      "----------\n",
      "a : array_like\n",
      "    First argument.\n",
      "b : array_like\n",
      "    Second argument.\n",
      "out : ndarray, optional\n",
      "    Output argument. This must have the exact kind that would be returned\n",
      "    if it was not used. In particular, it must have the right type, must be\n",
      "    C-contiguous, and its dtype must be the dtype that would be returned\n",
      "    for `dot(a,b)`. This is a performance feature. Therefore, if these\n",
      "    conditions are not met, an exception is raised, instead of attempting\n",
      "    to be flexible.\n",
      "\n",
      "Returns\n",
      "-------\n",
      "output : ndarray\n",
      "    Returns the dot product of `a` and `b`.  If `a` and `b` are both\n",
      "    scalars or both 1-D arrays then a scalar is returned; otherwise\n",
      "    an array is returned.\n",
      "    If `out` is given, then it is returned.\n",
      "\n",
      "Raises\n",
      "------\n",
      "ValueError\n",
      "    If the last dimension of `a` is not the same size as\n",
      "    the second-to-last dimension of `b`.\n",
      "\n",
      "See Also\n",
      "--------\n",
      "vdot : Complex-conjugating dot product.\n",
      "tensordot : Sum products over arbitrary axes.\n",
      "einsum : Einstein summation convention.\n",
      "matmul : '@' operator as method with out parameter.\n",
      "\n",
      "Examples\n",
      "--------\n",
      ">>> np.dot(3, 4)\n",
      "12\n",
      "\n",
      "Neither argument is complex-conjugated:\n",
      "\n",
      ">>> np.dot([2j, 3j], [2j, 3j])\n",
      "(-13+0j)\n",
      "\n",
      "For 2-D arrays it is the matrix product:\n",
      "\n",
      ">>> a = [[1, 0], [0, 1]]\n",
      ">>> b = [[4, 1], [2, 2]]\n",
      ">>> np.dot(a, b)\n",
      "array([[4, 1],\n",
      "       [2, 2]])\n",
      "\n",
      ">>> a = np.arange(3*4*5*6).reshape((3,4,5,6))\n",
      ">>> b = np.arange(3*4*5*6)[::-1].reshape((5,4,6,3))\n",
      ">>> np.dot(a, b)[2,3,2,1,2,2]\n",
      "499128\n",
      ">>> sum(a[2,3,2,:] * b[1,2,:,2])\n",
      "499128\n"
     ]
    }
   ],
   "source": [
    "!python -c \"import numpy as np; np.info(np.dot)\""
   ]
  },
  {
   "cell_type": "markdown",
   "metadata": {},
   "source": [
    "8. サイズ10の全要素0のベクトルを定義後、5番目の要素に1をセットせよ。"
   ]
  },
  {
   "cell_type": "code",
   "execution_count": 26,
   "metadata": {},
   "outputs": [
    {
     "name": "stdout",
     "output_type": "stream",
     "text": [
      "[0. 0. 0. 0. 1. 0. 0. 0. 0. 0.]\n",
      "0.0 | 275904865072\n",
      "0.0 | 275904864848\n",
      "0.0 | 275904865072\n",
      "0.0 | 275904864848\n",
      "1.0 | 275904865072\n",
      "0.0 | 275904864848\n",
      "0.0 | 275904865072\n",
      "0.0 | 275904864848\n",
      "0.0 | 275904865072\n",
      "0.0 | 275904864848\n"
     ]
    }
   ],
   "source": [
    "a = np.zeros(10)\n",
    "a[4] = 1\n",
    "print(a)\n",
    "for i in range(len(a)):\n",
    "    print(f\"{a[i]} | {id(a[i])}\")"
   ]
  },
  {
   "cell_type": "code",
   "execution_count": 28,
   "metadata": {},
   "outputs": [
    {
     "name": "stdout",
     "output_type": "stream",
     "text": [
      "0.0 | 275904864752\n",
      "3.0 | 275904864560\n",
      "2.0 | 275904864752\n",
      "0.0 | 275904864560\n",
      "1.0 | 275904864752\n",
      "0.0 | 275904864560\n",
      "0.0 | 275904864752\n",
      "0.0 | 275904864560\n",
      "0.0 | 275904864752\n",
      "0.0 | 275904864560\n"
     ]
    }
   ],
   "source": [
    "a[1] = 3\n",
    "a[2] = 2\n",
    "for i in range(len(a)):\n",
    "    print(f\"{a[i]} | {id(a[i])}\")"
   ]
  },
  {
   "cell_type": "markdown",
   "metadata": {},
   "source": [
    "9. NumpyのndarrayとPythonリストで、100から999999まで1ずつ増える要素を持つベクトルをそれぞれ生成するのにかかる実行速度を計測せよ。"
   ]
  },
  {
   "cell_type": "code",
   "execution_count": 37,
   "metadata": {},
   "outputs": [
    {
     "name": "stdout",
     "output_type": "stream",
     "text": [
      "253 ms ± 1.2 ms per loop (mean ± std. dev. of 7 runs, 1 loop each)\n",
      "2.36 s ± 19.2 ms per loop (mean ± std. dev. of 7 runs, 1 loop each)\n",
      "5.48 s ± 35.1 ms per loop (mean ± std. dev. of 7 runs, 1 loop each)\n"
     ]
    }
   ],
   "source": [
    "import numpy as np\n",
    "\n",
    "# Numpy\n",
    "%timeit np.arange(100, 10000000)\n",
    "# np.arange(100, 10000000)\n",
    "\n",
    "# Python リスト\n",
    "def gen1(n, m):\n",
    "    return [i for i in range(n, m, 1)]\n",
    "\n",
    "%timeit gen1(100, 10000000)\n",
    "# gen1(100, 10000000)\n",
    "\n",
    "#Python リスト内包表記\n",
    "def gen2(n, m):\n",
    "    res = []\n",
    "    for i in range(n,m,1):\n",
    "        res.append(i)\n",
    "    return res\n",
    "%timeit gen2(100, 10000000)\n"
   ]
  },
  {
   "cell_type": "code",
   "execution_count": null,
   "metadata": {},
   "outputs": [],
   "source": []
  }
 ],
 "metadata": {
  "kernelspec": {
   "display_name": "Python 3",
   "language": "python",
   "name": "python3"
  },
  "language_info": {
   "codemirror_mode": {
    "name": "ipython",
    "version": 3
   },
   "file_extension": ".py",
   "mimetype": "text/x-python",
   "name": "python",
   "nbconvert_exporter": "python",
   "pygments_lexer": "ipython3",
   "version": "3.7.6"
  }
 },
 "nbformat": 4,
 "nbformat_minor": 4
}
